{
 "cells": [
  {
   "cell_type": "code",
   "execution_count": 1,
   "id": "1de934de-7b27-407a-8883-be2766078afc",
   "metadata": {},
   "outputs": [
    {
     "name": "stdout",
     "output_type": "stream",
     "text": [
      "Requirement already satisfied: pytesseract in c:\\users\\alisha\\appdata\\local\\programs\\python\\python310\\lib\\site-packages (0.3.10)\n",
      "Requirement already satisfied: packaging>=21.3 in c:\\users\\alisha\\appdata\\local\\programs\\python\\python310\\lib\\site-packages (from pytesseract) (23.2)\n",
      "Requirement already satisfied: Pillow>=8.0.0 in c:\\users\\alisha\\appdata\\local\\programs\\python\\python310\\lib\\site-packages (from pytesseract) (10.0.1)\n"
     ]
    }
   ],
   "source": [
    "!pip install pytesseract"
   ]
  },
  {
   "cell_type": "code",
   "execution_count": 2,
   "id": "c62ee33e-68f7-499b-9bd0-2972246d63e7",
   "metadata": {},
   "outputs": [],
   "source": [
    "import cv2\n",
    "import pytesseract\n",
    "import numpy as np\n",
    "from PIL import ImageGrab"
   ]
  },
  {
   "cell_type": "code",
   "execution_count": 3,
   "id": "689f5819-3afb-4fa1-a973-07aece66f824",
   "metadata": {},
   "outputs": [],
   "source": [
    "# Set the path to the Tesseract executable for Windows OS\n",
    "pytesseract.pytesseract.tesseract_cmd = r'C:\\Program Files\\Tesseract-OCR\\tesseract'"
   ]
  },
  {
   "cell_type": "code",
   "execution_count": 4,
   "id": "1e86bb2c-324a-42b2-8903-be411fa5fdd9",
   "metadata": {},
   "outputs": [],
   "source": [
    "# Function to capture the screen\n",
    "def capture_screen(bbox=(300, 300, 1500, 1000)):\n",
    "    cap_scr = np.array(ImageGrab.grab(bbox))\n",
    "    cap_scr = cv2.cvtColor(cap_scr, cv2.COLOR_RGB2BGR)\n",
    "    return cap_scr"
   ]
  },
  {
   "cell_type": "code",
   "execution_count": 5,
   "id": "68c68096-a479-43b6-aace-b6a8be8e1db1",
   "metadata": {},
   "outputs": [
    {
     "data": {
      "text/plain": [
       "True"
      ]
     },
     "execution_count": 5,
     "metadata": {},
     "output_type": "execute_result"
    }
   ],
   "source": [
    "# Initialize the webcam\n",
    "cap = cv2.VideoCapture(0)\n",
    "cap.set(3, 640)\n",
    "cap.set(4, 480)"
   ]
  },
  {
   "cell_type": "code",
   "execution_count": null,
   "id": "4b827b32-9fe4-4a10-aaa1-da6829726a37",
   "metadata": {},
   "outputs": [],
   "source": [
    "while True:\n",
    "    # Read a frame from the webcam\n",
    "    ret, frame = cap.read()\n",
    "    # Perform text detection on the frame using Tesseract OCR\n",
    "    recognized_text = pytesseract.image_to_string(frame)\n",
    "    # Perform bounding box detection using Tesseract's built-in capabilities\n",
    "    d = pytesseract.image_to_data(frame, output_type=pytesseract.Output.DICT)\n",
    "    n_boxes = len(d['text'])\n",
    "    for i in range(n_boxes):\n",
    "        if int(d['conf'][i]) > 0:\n",
    "            (x, y, w, h) = (d['left'][i], d['top'][i], d['width'][i], d['height'][i])\n",
    "            frame = cv2.rectangle(frame, (x, y), (x + w, y + h), (0, 255, 0), 2)\n",
    "        # Draw the detected text on the frame\n",
    "    frame_with_text = frame.copy()\n",
    "    frame_with_text = cv2.putText(frame_with_text, recognized_text, (10, 30), cv2.FONT_HERSHEY_SIMPLEX, 1, (0, 255, 0), 2)\n",
    "\n",
    "    # Display the frame with detected text\n",
    "    cv2.imshow(\"Frame with Detected Text\", frame_with_text)\n",
    "    # Exit the loop when 'q' is pressed\n",
    "    if cv2.waitKey(1) & 0xFF == ord(\"q\"):\n",
    "        break\n",
    "\n",
    "cap.release()\n",
    "video_output.release()\n",
    "cv2.destroyAllWindows()\n"
   ]
  },
  {
   "cell_type": "code",
   "execution_count": null,
   "id": "e5076115-8e38-41d5-a22e-e296f9d6370b",
   "metadata": {},
   "outputs": [],
   "source": []
  }
 ],
 "metadata": {
  "kernelspec": {
   "display_name": "Python 3 (ipykernel)",
   "language": "python",
   "name": "python3"
  },
  "language_info": {
   "codemirror_mode": {
    "name": "ipython",
    "version": 3
   },
   "file_extension": ".py",
   "mimetype": "text/x-python",
   "name": "python",
   "nbconvert_exporter": "python",
   "pygments_lexer": "ipython3",
   "version": "3.10.0"
  }
 },
 "nbformat": 4,
 "nbformat_minor": 5
}
